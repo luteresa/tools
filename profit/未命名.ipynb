{
 "cells": [
  {
   "cell_type": "code",
   "execution_count": 106,
   "metadata": {},
   "outputs": [],
   "source": [
    "#!/usr/bin/env python\n",
    "# -*- coding: utf-8 -*-\n",
    "# @Time    : 18-11-26 下午3:58\n",
    "# @Author  : Leon\n",
    "# @Site    : \n",
    "# @File    : profit.py\n",
    "# @Software: PyCharm\n",
    "\n",
    "import numpy as np\n",
    "import matplotlib.pyplot as plt\n",
    "import xlrd\n",
    "from datetime import datetime\n",
    "import matplotlib.dates as mdates\n",
    "\n",
    "import tushare  as ts\n",
    "import pandas as pd\n",
    "\n",
    "\n",
    "def create_figure(data):\n",
    "    x_index = []\n",
    "    hui_net_value = []\n",
    "    fang_net_value = []\n",
    "    hs_300 = []\n",
    "    plt.figure(figsize=(8,6))\n",
    "    for d in data:\n",
    "        x_index.append(d[0])\n",
    "        hui_net_value.append(d[1])\n",
    "        fang_net_value.append(d[2])\n",
    "        hs_300.append(d[3])\n",
    "\n",
    "        plt.scatter(d[0],d[1],s=10,color='r')\n",
    "        plt.scatter(d[0], d[2],s=10, color='b')\n",
    "        plt.scatter(d[0], d[3], s=10, color='y')\n",
    "\n",
    "        plt.annotate(str(round(d[1],3)), xy=(d[0], d[1]), xytext=(0, 0), textcoords='offset points', fontsize=12)\n",
    "        plt.annotate(str(round(d[2],3)), xy=(d[0], d[2]), xytext=(0, 0), textcoords='offset points', fontsize=12)\n",
    "        plt.annotate(str(round(d[3],3)), xy=(d[0], d[3]), xytext=(0, 0), textcoords='offset points', fontsize=12)\n",
    "\n",
    "    plt.gca().xaxis.set_major_formatter(mdates.DateFormatter('%Y/%m/%d'))\n",
    "    plt.gca().xaxis.set_major_locator(mdates.DayLocator())\n",
    "    print(x_index)\n",
    "    plt.gca().set_xlim(x_index[0], x_index[-1])\n",
    "    #print(plt.xlim().date())\n",
    "    L1, = plt.plot(x_index, hui_net_value, color='B', linewidth=1.0, linestyle='-')\n",
    "    #L2, = plt.plot(x_index, fang_net_value, color='blue', linewidth=1.0, linestyle='-')\n",
    "    L3, = plt.plot(x_index, hs_300, color='R', linewidth=1.0, linestyle='-')\n",
    "\n",
    "    #plt.legend([L1, L2,L3], ['Leon', 'FANG','HS_300'], loc='upper right')\n",
    "    plt.legend([L1,L3], ['Leon','HS_300'], loc='left right')\n",
    "    plt.gcf().autofmt_xdate()\n",
    "    #plt.gcf().figure(figsize=(1200,900))\n",
    "    plt.savefig('he.jpg')\n",
    "    #plt.show()"
   ]
  },
  {
   "cell_type": "code",
   "execution_count": 100,
   "metadata": {},
   "outputs": [
    {
     "name": "stdout",
     "output_type": "stream",
     "text": [
      "15 3\n",
      "2020-03-31 00:00:00\n"
     ]
    }
   ],
   "source": [
    "if __name__ == '__main__':\n",
    "    #create_figure(data,index)\n",
    "    file = xlrd.open_workbook('pk.xlsx')\n",
    "    table = file.sheet_by_name('Sheet1')\n",
    "    nrows = table.nrows\n",
    "    ncols = table.ncols\n",
    "    print(nrows,ncols)\n",
    "    #tp = xlrd.xldate_as_tuple(table.cell(1,0).value,0)\n",
    "    dt = xlrd.xldate_as_datetime(table.cell(1, 0).value, 0)\n",
    "    #print(tp)\n",
    "    print(dt)\n",
    "\n",
    "\n",
    "    "
   ]
  },
  {
   "cell_type": "code",
   "execution_count": 101,
   "metadata": {},
   "outputs": [],
   "source": [
    "dateList = []\n",
    "dataList = []\n",
    "df_hs300 = ts.get_hist_data('hs300', start='2020-03-31', end='2020-04-20')\n",
    "# print(type(df))\n",
    "#print(df_hs300)"
   ]
  },
  {
   "cell_type": "code",
   "execution_count": 102,
   "metadata": {},
   "outputs": [],
   "source": [
    "d_hs300 = df_hs300.close.tolist()"
   ]
  },
  {
   "cell_type": "code",
   "execution_count": 103,
   "metadata": {},
   "outputs": [
    {
     "name": "stdout",
     "output_type": "stream",
     "text": [
      "[3853.46, 3839.49, 3802.38, 3797.36, 3825.7, 3753.26, 3769.18, 3792.81, 3780.34, 3798.02, 3713.22, 3734.53, 3675.08, 3686.16]\n",
      "after: [3686.16, 3675.08, 3734.53, 3713.22, 3798.02, 3780.34, 3792.81, 3769.18, 3753.26, 3825.7, 3797.36, 3802.38, 3839.49, 3853.46]\n",
      "len: 14\n"
     ]
    }
   ],
   "source": [
    "#print(type(d_hs300))\n",
    "print(d_hs300)\n",
    "d_hs300.reverse()\n",
    "print('after:',d_hs300)\n",
    "print(\"len:\",len(d_hs300))"
   ]
  },
  {
   "cell_type": "code",
   "execution_count": 104,
   "metadata": {},
   "outputs": [],
   "source": [
    "for i in range(1,nrows):\n",
    "    date_tmp =xlrd.xldate_as_datetime(table.cell(i, 0).value, 0).date()\n",
    "    #print(date_tmp)\n",
    "    dateList.append(date_tmp)\n",
    "    rows = table.row_values(i)\n",
    "    #print(rows)\n",
    "    dataList.append([rows[1],rows[2],d_hs300[i-1]])"
   ]
  },
  {
   "cell_type": "code",
   "execution_count": 107,
   "metadata": {},
   "outputs": [
    {
     "name": "stdout",
     "output_type": "stream",
     "text": [
      "base value: [587896.39, 587896.39, 3686.16]\n",
      "[datetime.date(2020, 3, 31), datetime.date(2020, 4, 1), datetime.date(2020, 4, 2), datetime.date(2020, 4, 3), datetime.date(2020, 4, 7), datetime.date(2020, 4, 8), datetime.date(2020, 4, 9), datetime.date(2020, 4, 10), datetime.date(2020, 4, 13), datetime.date(2020, 4, 14), datetime.date(2020, 4, 15), datetime.date(2020, 4, 16), datetime.date(2020, 4, 17), datetime.date(2020, 4, 20)]\n"
     ]
    },
    {
     "name": "stderr",
     "output_type": "stream",
     "text": [
      "/home/leon/anaconda3/lib/python3.7/site-packages/ipykernel_launcher.py:49: MatplotlibDeprecationWarning: Unrecognized location 'left right'. Falling back on 'best'; valid locations are\n",
      "\tbest\n",
      "\tupper right\n",
      "\tupper left\n",
      "\tlower left\n",
      "\tlower right\n",
      "\tright\n",
      "\tcenter left\n",
      "\tcenter right\n",
      "\tlower center\n",
      "\tupper center\n",
      "\tcenter\n",
      "This will raise an exception in 3.3.\n"
     ]
    },
    {
     "data": {
      "image/png": "[encoded data removed]",
      "text/plain": [
       "<Figure size 576x432 with 1 Axes>"
      ]
     },
     "metadata": {
      "needs_background": "light"
     },
     "output_type": "display_data"
    }
   ],
   "source": [
    "\n",
    "\n",
    "#print(dateList)\n",
    "#print(dataList)\n",
    "net_value = []\n",
    "base_value = dataList[0]\n",
    "print('base value:',base_value)\n",
    "\n",
    "\n",
    "for key,item in zip(dateList,dataList):\n",
    "    #print(key,item)\n",
    "    net_value.append([key,item[0]/base_value[0],item[1]/base_value[1],item[2]/base_value[2]])\n",
    "#print(\"net value\")\n",
    "#for net in net_value:\n",
    "    #print(net)\n",
    "\n",
    "create_figure(net_value)"
   ]
  },
  {
   "cell_type": "code",
   "execution_count": 97,
   "metadata": {},
   "outputs": [
    {
     "name": "stdout",
     "output_type": "stream",
     "text": [
      "[datetime.date(2020, 3, 31), datetime.date(2020, 4, 1), datetime.date(2020, 4, 2), datetime.date(2020, 4, 3), datetime.date(2020, 4, 7), datetime.date(2020, 4, 8), datetime.date(2020, 4, 9), datetime.date(2020, 4, 10), datetime.date(2020, 4, 13), datetime.date(2020, 4, 14), datetime.date(2020, 4, 15), datetime.date(2020, 4, 16), datetime.date(2020, 4, 17), datetime.date(2020, 4, 20)]\n"
     ]
    },
    {
     "data": {
      "image/png": "[encoded data removed]",
      "text/plain": [
       "<Figure size 576x432 with 1 Axes>"
      ]
     },
     "metadata": {
      "needs_background": "light"
     },
     "output_type": "display_data"
    }
   ],
   "source": [
    " \n"
   ]
  },
  {
   "cell_type": "code",
   "execution_count": 98,
   "metadata": {},
   "outputs": [],
   "source": [
    "import tushare"
   ]
  },
  {
   "cell_type": "code",
   "execution_count": 62,
   "metadata": {},
   "outputs": [
    {
     "name": "stdout",
     "output_type": "stream",
     "text": [
      "1.2.54\n"
     ]
    }
   ],
   "source": [
    "print(tushare.__version__)"
   ]
  },
  {
   "cell_type": "code",
   "execution_count": 52,
   "metadata": {},
   "outputs": [
    {
     "data": {
      "text/html": [
       "<div>\n",
       "<style scoped>\n",
       "    .dataframe tbody tr th:only-of-type {\n",
       "        vertical-align: middle;\n",
       "    }\n",
       "\n",
       "    .dataframe tbody tr th {\n",
       "        vertical-align: top;\n",
       "    }\n",
       "\n",
       "    .dataframe thead th {\n",
       "        text-align: right;\n",
       "    }\n",
       "</style>\n",
       "<table border=\"1\" class=\"dataframe\">\n",
       "  <thead>\n",
       "    <tr style=\"text-align: right;\">\n",
       "      <th></th>\n",
       "      <th>open</th>\n",
       "      <th>high</th>\n",
       "      <th>close</th>\n",
       "      <th>low</th>\n",
       "      <th>volume</th>\n",
       "      <th>price_change</th>\n",
       "      <th>p_change</th>\n",
       "      <th>ma5</th>\n",
       "      <th>ma10</th>\n",
       "      <th>ma20</th>\n",
       "      <th>v_ma5</th>\n",
       "      <th>v_ma10</th>\n",
       "      <th>v_ma20</th>\n",
       "    </tr>\n",
       "    <tr>\n",
       "      <th>date</th>\n",
       "      <th></th>\n",
       "      <th></th>\n",
       "      <th></th>\n",
       "      <th></th>\n",
       "      <th></th>\n",
       "      <th></th>\n",
       "      <th></th>\n",
       "      <th></th>\n",
       "      <th></th>\n",
       "      <th></th>\n",
       "      <th></th>\n",
       "      <th></th>\n",
       "      <th></th>\n",
       "    </tr>\n",
       "  </thead>\n",
       "  <tbody>\n",
       "    <tr>\n",
       "      <th>2020-04-20</th>\n",
       "      <td>19.74</td>\n",
       "      <td>20.07</td>\n",
       "      <td>19.74</td>\n",
       "      <td>19.71</td>\n",
       "      <td>282288.28</td>\n",
       "      <td>0.17</td>\n",
       "      <td>0.87</td>\n",
       "      <td>19.792</td>\n",
       "      <td>19.793</td>\n",
       "      <td>19.394</td>\n",
       "      <td>342508.70</td>\n",
       "      <td>374732.31</td>\n",
       "      <td>380371.94</td>\n",
       "    </tr>\n",
       "    <tr>\n",
       "      <th>2020-04-17</th>\n",
       "      <td>20.00</td>\n",
       "      <td>20.10</td>\n",
       "      <td>19.57</td>\n",
       "      <td>19.51</td>\n",
       "      <td>322739.75</td>\n",
       "      <td>-0.35</td>\n",
       "      <td>-1.76</td>\n",
       "      <td>19.874</td>\n",
       "      <td>19.712</td>\n",
       "      <td>19.361</td>\n",
       "      <td>355672.45</td>\n",
       "      <td>373340.24</td>\n",
       "      <td>394947.39</td>\n",
       "    </tr>\n",
       "    <tr>\n",
       "      <th>2020-04-16</th>\n",
       "      <td>19.85</td>\n",
       "      <td>20.25</td>\n",
       "      <td>19.92</td>\n",
       "      <td>19.57</td>\n",
       "      <td>368705.16</td>\n",
       "      <td>0.07</td>\n",
       "      <td>0.35</td>\n",
       "      <td>19.910</td>\n",
       "      <td>19.629</td>\n",
       "      <td>19.249</td>\n",
       "      <td>360777.56</td>\n",
       "      <td>367707.01</td>\n",
       "      <td>386544.15</td>\n",
       "    </tr>\n",
       "    <tr>\n",
       "      <th>2020-04-15</th>\n",
       "      <td>19.88</td>\n",
       "      <td>20.20</td>\n",
       "      <td>19.85</td>\n",
       "      <td>19.81</td>\n",
       "      <td>344876.91</td>\n",
       "      <td>-0.03</td>\n",
       "      <td>-0.15</td>\n",
       "      <td>19.896</td>\n",
       "      <td>19.525</td>\n",
       "      <td>19.127</td>\n",
       "      <td>362899.63</td>\n",
       "      <td>361009.56</td>\n",
       "      <td>377681.96</td>\n",
       "    </tr>\n",
       "    <tr>\n",
       "      <th>2020-04-14</th>\n",
       "      <td>20.01</td>\n",
       "      <td>20.07</td>\n",
       "      <td>19.88</td>\n",
       "      <td>19.54</td>\n",
       "      <td>393933.38</td>\n",
       "      <td>-0.27</td>\n",
       "      <td>-1.34</td>\n",
       "      <td>19.870</td>\n",
       "      <td>19.491</td>\n",
       "      <td>19.026</td>\n",
       "      <td>400430.92</td>\n",
       "      <td>359692.54</td>\n",
       "      <td>372325.54</td>\n",
       "    </tr>\n",
       "    <tr>\n",
       "      <th>...</th>\n",
       "      <td>...</td>\n",
       "      <td>...</td>\n",
       "      <td>...</td>\n",
       "      <td>...</td>\n",
       "      <td>...</td>\n",
       "      <td>...</td>\n",
       "      <td>...</td>\n",
       "      <td>...</td>\n",
       "      <td>...</td>\n",
       "      <td>...</td>\n",
       "      <td>...</td>\n",
       "      <td>...</td>\n",
       "      <td>...</td>\n",
       "    </tr>\n",
       "    <tr>\n",
       "      <th>2017-10-27</th>\n",
       "      <td>26.26</td>\n",
       "      <td>26.50</td>\n",
       "      <td>26.30</td>\n",
       "      <td>26.02</td>\n",
       "      <td>117342.58</td>\n",
       "      <td>0.10</td>\n",
       "      <td>0.38</td>\n",
       "      <td>26.202</td>\n",
       "      <td>26.202</td>\n",
       "      <td>26.202</td>\n",
       "      <td>170643.44</td>\n",
       "      <td>170643.44</td>\n",
       "      <td>170643.44</td>\n",
       "    </tr>\n",
       "    <tr>\n",
       "      <th>2017-10-26</th>\n",
       "      <td>26.60</td>\n",
       "      <td>27.09</td>\n",
       "      <td>26.20</td>\n",
       "      <td>26.06</td>\n",
       "      <td>194646.84</td>\n",
       "      <td>-0.36</td>\n",
       "      <td>-1.35</td>\n",
       "      <td>26.178</td>\n",
       "      <td>26.178</td>\n",
       "      <td>26.178</td>\n",
       "      <td>183968.66</td>\n",
       "      <td>183968.66</td>\n",
       "      <td>183968.66</td>\n",
       "    </tr>\n",
       "    <tr>\n",
       "      <th>2017-10-25</th>\n",
       "      <td>26.00</td>\n",
       "      <td>26.67</td>\n",
       "      <td>26.56</td>\n",
       "      <td>25.88</td>\n",
       "      <td>173891.56</td>\n",
       "      <td>0.55</td>\n",
       "      <td>2.12</td>\n",
       "      <td>26.170</td>\n",
       "      <td>26.170</td>\n",
       "      <td>26.170</td>\n",
       "      <td>180409.27</td>\n",
       "      <td>180409.27</td>\n",
       "      <td>180409.27</td>\n",
       "    </tr>\n",
       "    <tr>\n",
       "      <th>2017-10-24</th>\n",
       "      <td>25.78</td>\n",
       "      <td>26.25</td>\n",
       "      <td>26.01</td>\n",
       "      <td>25.65</td>\n",
       "      <td>182545.72</td>\n",
       "      <td>0.07</td>\n",
       "      <td>0.27</td>\n",
       "      <td>25.975</td>\n",
       "      <td>25.975</td>\n",
       "      <td>25.975</td>\n",
       "      <td>183668.12</td>\n",
       "      <td>183668.12</td>\n",
       "      <td>183668.12</td>\n",
       "    </tr>\n",
       "    <tr>\n",
       "      <th>2017-10-23</th>\n",
       "      <td>25.06</td>\n",
       "      <td>25.95</td>\n",
       "      <td>25.94</td>\n",
       "      <td>25.00</td>\n",
       "      <td>184790.52</td>\n",
       "      <td>0.81</td>\n",
       "      <td>3.22</td>\n",
       "      <td>25.940</td>\n",
       "      <td>25.940</td>\n",
       "      <td>25.940</td>\n",
       "      <td>184790.52</td>\n",
       "      <td>184790.52</td>\n",
       "      <td>184790.52</td>\n",
       "    </tr>\n",
       "  </tbody>\n",
       "</table>\n",
       "<p>608 rows × 13 columns</p>\n",
       "</div>"
      ],
      "text/plain": [
       "             open   high  close    low     volume  price_change  p_change  \\\n",
       "date                                                                        \n",
       "2020-04-20  19.74  20.07  19.74  19.71  282288.28          0.17      0.87   \n",
       "2020-04-17  20.00  20.10  19.57  19.51  322739.75         -0.35     -1.76   \n",
       "2020-04-16  19.85  20.25  19.92  19.57  368705.16          0.07      0.35   \n",
       "2020-04-15  19.88  20.20  19.85  19.81  344876.91         -0.03     -0.15   \n",
       "2020-04-14  20.01  20.07  19.88  19.54  393933.38         -0.27     -1.34   \n",
       "...           ...    ...    ...    ...        ...           ...       ...   \n",
       "2017-10-27  26.26  26.50  26.30  26.02  117342.58          0.10      0.38   \n",
       "2017-10-26  26.60  27.09  26.20  26.06  194646.84         -0.36     -1.35   \n",
       "2017-10-25  26.00  26.67  26.56  25.88  173891.56          0.55      2.12   \n",
       "2017-10-24  25.78  26.25  26.01  25.65  182545.72          0.07      0.27   \n",
       "2017-10-23  25.06  25.95  25.94  25.00  184790.52          0.81      3.22   \n",
       "\n",
       "               ma5    ma10    ma20      v_ma5     v_ma10     v_ma20  \n",
       "date                                                                 \n",
       "2020-04-20  19.792  19.793  19.394  342508.70  374732.31  380371.94  \n",
       "2020-04-17  19.874  19.712  19.361  355672.45  373340.24  394947.39  \n",
       "2020-04-16  19.910  19.629  19.249  360777.56  367707.01  386544.15  \n",
       "2020-04-15  19.896  19.525  19.127  362899.63  361009.56  377681.96  \n",
       "2020-04-14  19.870  19.491  19.026  400430.92  359692.54  372325.54  \n",
       "...            ...     ...     ...        ...        ...        ...  \n",
       "2017-10-27  26.202  26.202  26.202  170643.44  170643.44  170643.44  \n",
       "2017-10-26  26.178  26.178  26.178  183968.66  183968.66  183968.66  \n",
       "2017-10-25  26.170  26.170  26.170  180409.27  180409.27  180409.27  \n",
       "2017-10-24  25.975  25.975  25.975  183668.12  183668.12  183668.12  \n",
       "2017-10-23  25.940  25.940  25.940  184790.52  184790.52  184790.52  \n",
       "\n",
       "[608 rows x 13 columns]"
      ]
     },
     "execution_count": 52,
     "metadata": {},
     "output_type": "execute_result"
    }
   ],
   "source": [
    "import tushare as ts\n",
    "\n",
    "ts.get_hist_data('601607') #一次性获取全部日k线数据"
   ]
  },
  {
   "cell_type": "code",
   "execution_count": null,
   "metadata": {},
   "outputs": [],
   "source": []
  }
 ],
 "metadata": {
  "kernelspec": {
   "display_name": "Python 3",
   "language": "python",
   "name": "python3"
  },
  "language_info": {
   "codemirror_mode": {
    "name": "ipython",
    "version": 3
   },
   "file_extension": ".py",
   "mimetype": "text/x-python",
   "name": "python",
   "nbconvert_exporter": "python",
   "pygments_lexer": "ipython3",
   "version": "3.7.0"
  }
 },
 "nbformat": 4,
 "nbformat_minor": 2
}
